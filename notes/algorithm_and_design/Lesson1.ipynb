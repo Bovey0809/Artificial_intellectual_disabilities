{
 "cells": [
  {
   "cell_type": "code",
   "execution_count": 47,
   "metadata": {},
   "outputs": [
    {
     "data": {
      "text/plain": [
       "[1, 2]"
      ]
     },
     "execution_count": 47,
     "metadata": {},
     "output_type": "execute_result"
    }
   ],
   "source": [
    "def changeintlist(a: int) -> list:\n",
    "    a = str(a)\n",
    "    b = [int(i) for i in a]\n",
    "    return b\n",
    "\n",
    "\n",
    "# test\n",
    "changeintlist(12)"
   ]
  },
  {
   "cell_type": "code",
   "execution_count": 27,
   "metadata": {
    "collapsed": true
   },
   "outputs": [],
   "source": [
    "# Multiply two integers\n",
    "# Karatsuba algorithm\n",
    "\n",
    "\n",
    "def mul(x: list, y: list) -> int:\n",
    "    # base situation\n",
    "    n = len(x)\n",
    "    if n == 1:\n",
    "        return x[0] * y[0]\n",
    "    else:\n",
    "        half = int(n/2)\n",
    "        a = x[:half]\n",
    "        b = x[half:]\n",
    "        c = y[:half]\n",
    "        d = y[half:]\n",
    "        ac = mul(a, c)\n",
    "        ad = mul(a, d)\n",
    "        bc = mul(b, c)\n",
    "        bd = mul(b, d)\n",
    "        return 10**n * ac + 10**(half)*(bc + ad) + bd"
   ]
  },
  {
   "cell_type": "code",
   "execution_count": 30,
   "metadata": {},
   "outputs": [
    {
     "data": {
      "text/plain": [
       "7006652"
      ]
     },
     "execution_count": 30,
     "metadata": {},
     "output_type": "execute_result"
    }
   ],
   "source": [
    "# test\n",
    "mul([1, 2, 3, 4], [5, 6, 7, 8])"
   ]
  },
  {
   "cell_type": "code",
   "execution_count": 40,
   "metadata": {
    "collapsed": true
   },
   "outputs": [],
   "source": [
    "def list_int(x: list) -> int:\n",
    "    return int(''.join([str(i) for i in x]))"
   ]
  },
  {
   "cell_type": "code",
   "execution_count": 41,
   "metadata": {},
   "outputs": [
    {
     "data": {
      "text/plain": [
       "12"
      ]
     },
     "execution_count": 41,
     "metadata": {},
     "output_type": "execute_result"
    }
   ],
   "source": [
    "list_int([1, 2])"
   ]
  },
  {
   "cell_type": "code",
   "execution_count": 55,
   "metadata": {},
   "outputs": [
    {
     "data": {
      "text/plain": [
       "1"
      ]
     },
     "execution_count": 55,
     "metadata": {},
     "output_type": "execute_result"
    }
   ],
   "source": [
    "13 % 2"
   ]
  },
  {
   "cell_type": "code",
   "execution_count": 68,
   "metadata": {},
   "outputs": [
    {
     "name": "stdout",
     "output_type": "stream",
     "text": [
      "Automatic pdb calling has been turned ON\n"
     ]
    }
   ],
   "source": [
    "%pdb"
   ]
  },
  {
   "cell_type": "code",
   "execution_count": 84,
   "metadata": {
    "collapsed": true
   },
   "outputs": [],
   "source": [
    "from pdb import set_trace"
   ]
  },
  {
   "cell_type": "markdown",
   "metadata": {},
   "source": [
    "https://brilliant.org/wiki/karatsuba-algorithm/"
   ]
  },
  {
   "cell_type": "code",
   "execution_count": 9,
   "metadata": {},
   "outputs": [
    {
     "data": {
      "text/plain": [
       "36588"
      ]
     },
     "execution_count": 9,
     "metadata": {},
     "output_type": "execute_result"
    }
   ],
   "source": [
    "# Multiply two integers\n",
    "# Karatsuba algorithm\n",
    "from math import ceil, floor\n",
    "\n",
    "\n",
    "def karatsuba(x: int, y: int) -> int:\n",
    "    # base case\n",
    "    if x < 10 and y < 10:\n",
    "        return x * y\n",
    "    else:\n",
    "        n = max(len(str(x)), len(str(y)))\n",
    "        m = ceil(n / 2)\n",
    "        a, c = floor(x/10**m), floor(y / 10**m)\n",
    "        b, d = x % 10**m, y % 10**m\n",
    "        p, q = a + b, c + d\n",
    "        ac = karatsuba(a, c)\n",
    "        bd = karatsuba(b, d)\n",
    "        pq = karatsuba(p, q)\n",
    "        adbc = pq - ac - bd\n",
    "        return 10**n * ac + 10**m * adbc + bd\n",
    "\n",
    "\n",
    "karatsuba(123, 956)"
   ]
  },
  {
   "cell_type": "code",
   "execution_count": 66,
   "metadata": {},
   "outputs": [
    {
     "data": {
      "text/plain": [
       "672"
      ]
     },
     "execution_count": 66,
     "metadata": {},
     "output_type": "execute_result"
    }
   ],
   "source": [
    "12 * 56"
   ]
  },
  {
   "cell_type": "markdown",
   "metadata": {
    "collapsed": true
   },
   "source": [
    "# merge sort"
   ]
  },
  {
   "cell_type": "code",
   "execution_count": 1,
   "metadata": {},
   "outputs": [],
   "source": [
    "from __future__ import print_function, division\n",
    "import numpy as np"
   ]
  },
  {
   "cell_type": "code",
   "execution_count": 8,
   "metadata": {},
   "outputs": [],
   "source": [
    "test = list(set(np.random.randint(1, 10, 10)))"
   ]
  },
  {
   "cell_type": "code",
   "execution_count": 73,
   "metadata": {},
   "outputs": [],
   "source": [
    "from functools import wraps"
   ]
  },
  {
   "cell_type": "code",
   "execution_count": 83,
   "metadata": {},
   "outputs": [],
   "source": [
    "def io(func):\n",
    "    @wraps(func)\n",
    "    def _f(*args):\n",
    "        print(f'{func.__name__}:in: {args}')\n",
    "        output = func(*args)\n",
    "        print(f\"output: {output}\")\n",
    "        return output\n",
    "    return _f"
   ]
  },
  {
   "cell_type": "code",
   "execution_count": 124,
   "metadata": {},
   "outputs": [],
   "source": [
    "def merge(c: list, d: list) -> list:\n",
    "    i, j = 0, 0\n",
    "    n = len(c) + len(d)\n",
    "    b = list()\n",
    "    for k in range(1, n):\n",
    "        if c[i] < d[j]:\n",
    "            b.append(c[i])\n",
    "            i += 1\n",
    "        else:\n",
    "            b.append(d[j])\n",
    "            j += 1\n",
    "        if i == len(c):\n",
    "            b += d[j:]\n",
    "            break\n",
    "        elif j == len(d):\n",
    "            b += c[i:]\n",
    "            break\n",
    "    return b"
   ]
  },
  {
   "cell_type": "code",
   "execution_count": 125,
   "metadata": {},
   "outputs": [
    {
     "data": {
      "text/plain": [
       "[1, 2, 3, 6, 8, 15, 19, 20, 39, 89]"
      ]
     },
     "execution_count": 125,
     "metadata": {},
     "output_type": "execute_result"
    }
   ],
   "source": [
    "# test merge function\n",
    "C = [1, 3, 8, 19, 20]\n",
    "D = [2, 6, 15, 39, 89]\n",
    "merge(C, D)"
   ]
  },
  {
   "cell_type": "code",
   "execution_count": 137,
   "metadata": {},
   "outputs": [
    {
     "name": "stdout",
     "output_type": "stream",
     "text": [
      "149 ns ± 0.0303 ns per loop (mean ± std. dev. of 7 runs, 10000000 loops each)\n"
     ]
    }
   ],
   "source": [
    "# divide\n",
    "import random\n",
    "\n",
    "\n",
    "def mergesort(x: list) -> list:\n",
    "    n = len(x)\n",
    "    if n <= 1:\n",
    "        return x\n",
    "    else:\n",
    "        left = x[:n//2]\n",
    "        right = x[n//2:]\n",
    "        # print(f'left: {left}\\nright:{right}')\n",
    "        return merge(mergesort(left), mergesort(right))\n",
    "\n",
    "\n",
    "# test\n",
    "x = list(set(random.choices([i for i in range(20)], k=3)))\n",
    "%timeit sorted(x)"
   ]
  },
  {
   "cell_type": "code",
   "execution_count": 138,
   "metadata": {},
   "outputs": [
    {
     "name": "stdout",
     "output_type": "stream",
     "text": [
      "2.32 µs ± 77.1 ns per loop (mean ± std. dev. of 7 runs, 100000 loops each)\n"
     ]
    }
   ],
   "source": [
    "%timeit mergesort(x)"
   ]
  },
  {
   "cell_type": "markdown",
   "metadata": {},
   "source": [
    "# Merge and CountSplitInv"
   ]
  },
  {
   "cell_type": "code",
   "execution_count": 45,
   "metadata": {},
   "outputs": [
    {
     "data": {
      "text/plain": [
       "([1, 2, 3, 4, 5, 6, 7], 3)"
      ]
     },
     "execution_count": 45,
     "metadata": {},
     "output_type": "execute_result"
    }
   ],
   "source": [
    "def mergeCountSplitInv(c: list, d: list) -> (list, int):\n",
    "    i = j = splitInv = 0\n",
    "    length_c = len(c)\n",
    "    length_d = len(d)\n",
    "    n = length_c + length_d\n",
    "    b = list()\n",
    "    for k in range(n):\n",
    "        if c[i] < d[j]:\n",
    "            b.append(c[i])\n",
    "            i += 1\n",
    "        else:\n",
    "            b.append(d[j])\n",
    "            j += 1\n",
    "            splitInv += length_c - i\n",
    "        if i == length_c:\n",
    "            b += d[j:]\n",
    "            break\n",
    "        if j == length_d:\n",
    "            b += c[i:]\n",
    "            break\n",
    "    return b, splitInv\n",
    "\n",
    "\n",
    "# test\n",
    "C = [1, 3, 5]\n",
    "D = [2, 4, 6]\n",
    "mergeCountSplitInv(C, D)"
   ]
  },
  {
   "cell_type": "markdown",
   "metadata": {},
   "source": [
    "## O(nlogn)\n",
    "总共需要一个循环, 循环的次数是length(c+d)"
   ]
  },
  {
   "cell_type": "markdown",
   "metadata": {},
   "source": [
    "# Homework Assignment Inversion Count"
   ]
  },
  {
   "cell_type": "code",
   "execution_count": 140,
   "metadata": {},
   "outputs": [],
   "source": [
    "# read the text\n",
    "import pandas as pd"
   ]
  },
  {
   "cell_type": "code",
   "execution_count": 144,
   "metadata": {},
   "outputs": [],
   "source": [
    "data = pd.read_csv('./IntegerArray.txt', '\\t', header=None)"
   ]
  },
  {
   "cell_type": "code",
   "execution_count": 149,
   "metadata": {},
   "outputs": [],
   "source": [
    "test_list = data[0].tolist()"
   ]
  },
  {
   "cell_type": "code",
   "execution_count": 170,
   "metadata": {},
   "outputs": [
    {
     "name": "stdout",
     "output_type": "stream",
     "text": [
      "Automatic pdb calling has been turned OFF\n"
     ]
    }
   ],
   "source": [
    "%pdb"
   ]
  },
  {
   "cell_type": "code",
   "execution_count": 187,
   "metadata": {
    "scrolled": true
   },
   "outputs": [
    {
     "data": {
      "text/plain": [
       "2407905288"
      ]
     },
     "execution_count": 187,
     "metadata": {},
     "output_type": "execute_result"
    }
   ],
   "source": [
    "def calinv(x: list) -> int:\n",
    "    # base case\n",
    "    length = len(x)\n",
    "    if length == 1:\n",
    "        return x, 0\n",
    "\n",
    "    left = x[:length//2]\n",
    "    right = x[length//2:]\n",
    "    left, leftcount = calinv(left)\n",
    "    right, rightcount = calinv(right)\n",
    "    result, count = splitinv(left, right)\n",
    "    return result, count + leftcount + rightcount\n",
    "\n",
    "\n",
    "def splitinv(left: list, right: list):\n",
    "    length = len(left) + len(right)\n",
    "    i = j = count = 0\n",
    "    result = []\n",
    "    for _ in range(length):\n",
    "        if left[i] < right[j]:\n",
    "            result.append(left[i])\n",
    "            i += 1\n",
    "        else:\n",
    "            result.append(right[j])\n",
    "            j += 1\n",
    "            count += len(left[i:])\n",
    "        if i == len(left):\n",
    "            result += right[j:]\n",
    "            break\n",
    "        elif j == len(right):\n",
    "            result += left[i:]\n",
    "            break\n",
    "    return result, count\n",
    "\n",
    "# test\n",
    "\n",
    "\n",
    "calinv(test_list)[1]"
   ]
  }
 ],
 "metadata": {
  "kernelspec": {
   "display_name": "Python [conda env:root] *",
   "language": "python",
   "name": "conda-root-py"
  },
  "language_info": {
   "codemirror_mode": {
    "name": "ipython",
    "version": 3
   },
   "file_extension": ".py",
   "mimetype": "text/x-python",
   "name": "python",
   "nbconvert_exporter": "python",
   "pygments_lexer": "ipython3",
   "version": "3.7.3"
  },
  "toc": {
   "base_numbering": 1,
   "nav_menu": {},
   "number_sections": true,
   "sideBar": true,
   "skip_h1_title": false,
   "title_cell": "Table of Contents",
   "title_sidebar": "Contents",
   "toc_cell": false,
   "toc_position": {
    "height": "290px",
    "left": "906px",
    "top": "288px",
    "width": "256px"
   },
   "toc_section_display": true,
   "toc_window_display": true
  },
  "varInspector": {
   "cols": {
    "lenName": 16,
    "lenType": 16,
    "lenVar": 40
   },
   "kernels_config": {
    "python": {
     "delete_cmd_postfix": "",
     "delete_cmd_prefix": "del ",
     "library": "var_list.py",
     "varRefreshCmd": "print(var_dic_list())"
    },
    "r": {
     "delete_cmd_postfix": ") ",
     "delete_cmd_prefix": "rm(",
     "library": "var_list.r",
     "varRefreshCmd": "cat(var_dic_list()) "
    }
   },
   "position": {
    "height": "357px",
    "left": "327px",
    "right": "20px",
    "top": "388px",
    "width": "350px"
   },
   "types_to_exclude": [
    "module",
    "function",
    "builtin_function_or_method",
    "instance",
    "_Feature"
   ],
   "window_display": true
  }
 },
 "nbformat": 4,
 "nbformat_minor": 2
}
