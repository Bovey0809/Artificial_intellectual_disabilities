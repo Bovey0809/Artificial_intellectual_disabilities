{
 "cells": [
  {
   "cell_type": "code",
   "execution_count": 47,
   "metadata": {},
   "outputs": [
    {
     "data": {
      "text/plain": [
       "[1, 2]"
      ]
     },
     "execution_count": 47,
     "metadata": {},
     "output_type": "execute_result"
    }
   ],
   "source": [
    "def changeintlist(a:int)-> list:\n",
    "    a = str(a)\n",
    "    b = [int(i) for i in a]\n",
    "    return b\n",
    "# test\n",
    "changeintlist(12)"
   ]
  },
  {
   "cell_type": "code",
   "execution_count": 27,
   "metadata": {
    "collapsed": true
   },
   "outputs": [],
   "source": [
    "# Multiply two integers\n",
    "# Karatsuba algorithm\n",
    "def mul(x:list, y:list) -> int:\n",
    "    # base situation\n",
    "    n = len(x)\n",
    "    if n == 1:\n",
    "        return x[0] * y[0]\n",
    "    else:\n",
    "        half = int(n/2)\n",
    "        a = x[:half]\n",
    "        b = x[half:]\n",
    "        c = y[:half]\n",
    "        d = y[half:]\n",
    "        ac = mul(a, c)\n",
    "        ad = mul(a, d)\n",
    "        bc = mul(b, c)\n",
    "        bd = mul(b, d)\n",
    "        return 10**n * ac + 10**(half)*(bc + ad) + bd"
   ]
  },
  {
   "cell_type": "code",
   "execution_count": 30,
   "metadata": {},
   "outputs": [
    {
     "data": {
      "text/plain": [
       "7006652"
      ]
     },
     "execution_count": 30,
     "metadata": {},
     "output_type": "execute_result"
    }
   ],
   "source": [
    "# test\n",
    "mul([1, 2, 3, 4], [5, 6, 7, 8])"
   ]
  },
  {
   "cell_type": "code",
   "execution_count": 40,
   "metadata": {
    "collapsed": true
   },
   "outputs": [],
   "source": [
    "def list_int(x:list) -> int:\n",
    "    return int(''.join([str(i) for i in x]))"
   ]
  },
  {
   "cell_type": "code",
   "execution_count": 41,
   "metadata": {},
   "outputs": [
    {
     "data": {
      "text/plain": [
       "12"
      ]
     },
     "execution_count": 41,
     "metadata": {},
     "output_type": "execute_result"
    }
   ],
   "source": [
    "list_int([1, 2])"
   ]
  },
  {
   "cell_type": "code",
   "execution_count": 55,
   "metadata": {},
   "outputs": [
    {
     "data": {
      "text/plain": [
       "1"
      ]
     },
     "execution_count": 55,
     "metadata": {},
     "output_type": "execute_result"
    }
   ],
   "source": [
    "13 % 2"
   ]
  },
  {
   "cell_type": "code",
   "execution_count": 68,
   "metadata": {},
   "outputs": [
    {
     "name": "stdout",
     "output_type": "stream",
     "text": [
      "Automatic pdb calling has been turned ON\n"
     ]
    }
   ],
   "source": [
    "%pdb"
   ]
  },
  {
   "cell_type": "code",
   "execution_count": 84,
   "metadata": {
    "collapsed": true
   },
   "outputs": [],
   "source": [
    "from pdb import set_trace"
   ]
  },
  {
   "cell_type": "markdown",
   "metadata": {},
   "source": [
    "https://brilliant.org/wiki/karatsuba-algorithm/"
   ]
  },
  {
   "cell_type": "code",
   "execution_count": 96,
   "metadata": {},
   "outputs": [
    {
     "data": {
      "text/plain": [
       "36588"
      ]
     },
     "execution_count": 96,
     "metadata": {},
     "output_type": "execute_result"
    }
   ],
   "source": [
    "# Multiply two integers\n",
    "# Karatsuba algorithm\n",
    "from math import ceil, floor\n",
    "def karatsuba(x:int, y:int)-> int:\n",
    "    # base case\n",
    "    if x < 10 and y < 10:\n",
    "        return x * y\n",
    "    else:\n",
    "        n = max(len(str(x)), len(str(y)))\n",
    "        m = ceil(n / 2)\n",
    "        a, c = floor(x/10**m), floor(y / 10**m)\n",
    "        b, d = x % 10**m, y%10**m\n",
    "        p, q = a + b, c + d\n",
    "        ac = karatsuba(a, c)\n",
    "        bd = karatsuba(b, d)\n",
    "        pq = karatsuba(p, q)\n",
    "        adbc = pq - ac - bd\n",
    "        return 10**n * ac + 10**m * adbc + bd\n",
    "karatsuba(123, 956)"
   ]
  },
  {
   "cell_type": "code",
   "execution_count": 66,
   "metadata": {},
   "outputs": [
    {
     "data": {
      "text/plain": [
       "672"
      ]
     },
     "execution_count": 66,
     "metadata": {},
     "output_type": "execute_result"
    }
   ],
   "source": [
    "12 * 56"
   ]
  },
  {
   "cell_type": "code",
   "execution_count": null,
   "metadata": {
    "collapsed": true
   },
   "outputs": [],
   "source": []
  }
 ],
 "metadata": {
  "kernelspec": {
   "display_name": "Python [conda root]",
   "language": "python",
   "name": "conda-root-py"
  },
  "language_info": {
   "codemirror_mode": {
    "name": "ipython",
    "version": 3
   },
   "file_extension": ".py",
   "mimetype": "text/x-python",
   "name": "python",
   "nbconvert_exporter": "python",
   "pygments_lexer": "ipython3",
   "version": "3.6.7"
  }
 },
 "nbformat": 4,
 "nbformat_minor": 2
}
