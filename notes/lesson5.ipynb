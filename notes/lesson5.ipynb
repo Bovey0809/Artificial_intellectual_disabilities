{
 "cells": [
  {
   "cell_type": "markdown",
   "metadata": {},
   "source": [
    "# Similarity: Word2Vec\n",
    "\n",
    "## 编辑距离\n",
    "是一种计算词和词之间的距离的一个方法.\n",
    "\n",
    "### 缺点\n",
    "1. 词义距离无法得到\n",
    "    - 同义词, (成都, 蓉城)\n",
    "    - 近似词, (美丽, 美好, 美妙)\n",
    "\n",
    "### 优点\n",
    "1. 可解释性强\n",
    "\n",
    "## word embeddings\n",
    "\n",
    "### onehot\n",
    "- shortcomings\n",
    "    - sparse matrix\n",
    "\n",
    "\n",
    "### 词频\n",
    "统计两个字在语料库里面共同出现的频率.\n",
    "1. 使用降维算法, 计算量非常大.\n",
    "2. 添加新词很困难\n",
    "\n",
    "#### 为什么需要vectors?\n",
    "1. 省空间, 过去的词频矩阵太大.\n",
    "2. 可以随意添加新的词.\n",
    "3. 拥有语义之间的相似性.\n",
    "\n",
    "## word2vector\n",
    "### Embedding\n",
    "1. Graph embedding, node embedding...\n",
    "2. 把实体用不同的空间来表示.\n",
    "\n",
    "### word embedding\n",
    "\n",
    "\n",
    "- input: \n",
    "    - one hot\n",
    "        - 很多单词\n",
    "        - 很多文本\n",
    "- output\n",
    "    - 单词向量"
   ]
  },
  {
   "cell_type": "markdown",
   "metadata": {},
   "source": [
    "输入一个词的onehot, 预测这个模型周围出现的单词.\n",
    "如果周围的单词是"
   ]
  },
  {
   "cell_type": "code",
   "execution_count": 8,
   "metadata": {},
   "outputs": [],
   "source": [
    "from __future__ import print_function, division\n",
    "import numpy as np"
   ]
  },
  {
   "cell_type": "code",
   "execution_count": 9,
   "metadata": {},
   "outputs": [],
   "source": [
    "a = np.zeros((1, 10000))"
   ]
  },
  {
   "cell_type": "code",
   "execution_count": 19,
   "metadata": {},
   "outputs": [],
   "source": [
    "a[0][9] = 1"
   ]
  },
  {
   "cell_type": "code",
   "execution_count": 12,
   "metadata": {},
   "outputs": [],
   "source": [
    "w = np.random.randn(10000, 100)"
   ]
  },
  {
   "cell_type": "code",
   "execution_count": 13,
   "metadata": {},
   "outputs": [],
   "source": [
    "b = np.random.rand()"
   ]
  },
  {
   "cell_type": "code",
   "execution_count": 20,
   "metadata": {},
   "outputs": [
    {
     "data": {
      "text/plain": [
       "array([[-1.10095007, -1.04933902,  0.2755892 ,  0.42504185, -0.17670504,\n",
       "        -0.31770355, -1.58337864, -0.2725509 ,  0.45569226,  0.64261982,\n",
       "         0.62830731,  1.84606272,  0.2564552 , -1.34486463, -0.74688084,\n",
       "        -0.68084386,  1.84066823, -1.05015048, -1.76300278,  0.2865174 ,\n",
       "         0.43811093, -0.63912551,  0.95385989, -0.36968719, -0.19048723,\n",
       "        -1.39850101, -0.07101931,  0.01386916,  0.01536881, -2.1602911 ,\n",
       "         1.52202398, -0.6954806 , -1.4684708 , -0.47808203, -0.65887204,\n",
       "        -0.7959726 ,  1.31367893,  0.62434891,  1.2439336 , -1.34265963,\n",
       "         0.49272306,  0.29074113, -0.45475426, -0.29987318, -1.30854208,\n",
       "         0.44614585,  0.28674487, -0.10904042,  0.16305623, -0.48119844,\n",
       "        -0.12461743,  0.58662135,  0.43042745, -0.94064038, -1.32676487,\n",
       "        -0.15424215,  0.35797106, -1.68148065, -0.60797753, -0.28077687,\n",
       "         1.28730273,  1.71157098,  1.3563176 ,  1.14042316, -1.9394447 ,\n",
       "         0.61158731, -0.01984345, -0.43501781,  1.43300711,  0.51693735,\n",
       "        -0.22303045, -1.13877448,  0.36840098,  0.9766405 , -1.47285791,\n",
       "         1.33898605, -1.28174416, -0.59656759, -2.26974961,  0.06313467,\n",
       "        -1.38477459, -0.60656707, -2.88003429, -0.5070304 ,  1.75580188,\n",
       "        -1.89989322, -0.71856666, -1.23922142,  1.55642211, -1.14998129,\n",
       "        -1.08186539,  1.65155783,  0.93544912,  0.86503304,  1.12396368,\n",
       "         0.3147245 ,  1.3679919 , -1.20363145,  0.31182971, -0.72075435]])"
      ]
     },
     "execution_count": 20,
     "metadata": {},
     "output_type": "execute_result"
    }
   ],
   "source": [
    "np.matmul(a, w)"
   ]
  },
  {
   "cell_type": "markdown",
   "metadata": {},
   "source": [
    "#### Use gensim to get make the word2vec model"
   ]
  },
  {
   "cell_type": "code",
   "execution_count": 21,
   "metadata": {},
   "outputs": [],
   "source": [
    "import gensim"
   ]
  },
  {
   "cell_type": "code",
   "execution_count": 22,
   "metadata": {},
   "outputs": [],
   "source": [
    "from gensim.models import Word2Vec"
   ]
  },
  {
   "cell_type": "code",
   "execution_count": 23,
   "metadata": {},
   "outputs": [],
   "source": [
    "sentences = [(\"fuck\", \"you\"), (\"cao\", \"ni\", \"map\")]"
   ]
  },
  {
   "cell_type": "code",
   "execution_count": 25,
   "metadata": {},
   "outputs": [],
   "source": [
    "model = Word2Vec(sentences, min_count=1)"
   ]
  },
  {
   "cell_type": "code",
   "execution_count": 31,
   "metadata": {},
   "outputs": [
    {
     "data": {
      "text/plain": [
       "{'fuck': <gensim.models.keyedvectors.Vocab at 0x2b0152aa2860>,\n",
       " 'you': <gensim.models.keyedvectors.Vocab at 0x2b0152a55438>,\n",
       " 'cao': <gensim.models.keyedvectors.Vocab at 0x2b0152a55ba8>,\n",
       " 'ni': <gensim.models.keyedvectors.Vocab at 0x2b0152a553c8>,\n",
       " 'map': <gensim.models.keyedvectors.Vocab at 0x2b0152a558d0>}"
      ]
     },
     "execution_count": 31,
     "metadata": {},
     "output_type": "execute_result"
    }
   ],
   "source": [
    "model.wv.vocab"
   ]
  },
  {
   "cell_type": "markdown",
   "metadata": {},
   "source": [
    "#### NER\n",
    "name entity redcognition"
   ]
  },
  {
   "cell_type": "code",
   "execution_count": null,
   "metadata": {},
   "outputs": [],
   "source": []
  }
 ],
 "metadata": {
  "kernelspec": {
   "display_name": "Python [conda env:root] *",
   "language": "python",
   "name": "conda-root-py"
  },
  "language_info": {
   "codemirror_mode": {
    "name": "ipython",
    "version": 3
   },
   "file_extension": ".py",
   "mimetype": "text/x-python",
   "name": "python",
   "nbconvert_exporter": "python",
   "pygments_lexer": "ipython3",
   "version": "3.7.3"
  },
  "notify_time": "0",
  "toc": {
   "base_numbering": 1,
   "nav_menu": {},
   "number_sections": true,
   "sideBar": true,
   "skip_h1_title": false,
   "title_cell": "Table of Contents",
   "title_sidebar": "Contents",
   "toc_cell": false,
   "toc_position": {},
   "toc_section_display": true,
   "toc_window_display": true
  },
  "varInspector": {
   "cols": {
    "lenName": 16,
    "lenType": 16,
    "lenVar": 40
   },
   "kernels_config": {
    "python": {
     "delete_cmd_postfix": "",
     "delete_cmd_prefix": "del ",
     "library": "var_list.py",
     "varRefreshCmd": "print(var_dic_list())"
    },
    "r": {
     "delete_cmd_postfix": ") ",
     "delete_cmd_prefix": "rm(",
     "library": "var_list.r",
     "varRefreshCmd": "cat(var_dic_list()) "
    }
   },
   "position": {
    "height": "408.212px",
    "left": "792.642px",
    "right": "20px",
    "top": "152.958px",
    "width": "599.549px"
   },
   "types_to_exclude": [
    "module",
    "function",
    "builtin_function_or_method",
    "instance",
    "_Feature"
   ],
   "window_display": true
  }
 },
 "nbformat": 4,
 "nbformat_minor": 2
}
