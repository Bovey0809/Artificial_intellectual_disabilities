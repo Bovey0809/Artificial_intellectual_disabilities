{
 "cells": [
  {
   "cell_type": "markdown",
   "metadata": {},
   "source": [
    "# 人工智能纳米学位\n",
    "## 机器翻译项目\n",
    "在此 notebook 中，标题中以**实现**开头的部分表示下面的代码块需要你提供额外的功能。请务必仔细阅读说明！\n",
    "\n",
    "## 简介\n",
    "在此 notebook 中，你将构建一个用在端到端机器翻译管道中的深度神经网络。你完成的管道将接受英文作为输入，并返回法语翻译。\n",
    "\n",
    "- **预处理** - 将文本转换为整数序列。\n",
    "- **模型** - 创建一个模型，该模型接受整数序列作为输入，并返回潜在翻译的概率分布。了解了经常用于机器翻译的基本神经网络类型后，你将自己调查并设计一个模型！\n",
    "- **预测** - 在应用文本上运行该模型。"
   ]
  },
  {
   "cell_type": "code",
   "execution_count": 1,
   "metadata": {},
   "outputs": [],
   "source": [
    "%load_ext autoreload\n",
    "%aimport helper, tests\n",
    "%autoreload 1"
   ]
  },
  {
   "cell_type": "code",
   "execution_count": 2,
   "metadata": {},
   "outputs": [
    {
     "name": "stderr",
     "output_type": "stream",
     "text": [
      "Using TensorFlow backend.\n"
     ]
    }
   ],
   "source": [
    "import collections\n",
    "\n",
    "import helper\n",
    "import numpy as np\n",
    "import project_tests as tests\n",
    "\n",
    "from keras.preprocessing.text import Tokenizer\n",
    "from keras.preprocessing.sequence import pad_sequences\n",
    "from keras.models import Model\n",
    "from keras.layers import GRU, Input, Dense, TimeDistributed, Activation, RepeatVector, Bidirectional\n",
    "from keras.layers.embeddings import Embedding\n",
    "from keras.optimizers import Adam\n",
    "from keras.losses import sparse_categorical_crossentropy"
   ]
  },
  {
   "cell_type": "markdown",
   "metadata": {},
   "source": [
    "### 检查是否能访问 GPU\n",
    "只有当你使用 GPU 时（例如在优达学城 Workspace 中运行或使用支持 GPU 的 AWS 实例），才需要运行以下测试。请运行下个单元格，并验证 device_type 为 GPU。\n",
    "- 如果设备不是 GPU，并且你在优达学城 Workspace 中运行，则使用顶部的图标保存 Workspace，然后点击 Workspace 底部的“启用”。\n",
    "- 如果设备不是 GPU，并且你使用的是 AWS 实例，则参考课堂中的云计算说明以验证你的设置步骤。"
   ]
  },
  {
   "cell_type": "code",
   "execution_count": 3,
   "metadata": {},
   "outputs": [
    {
     "name": "stdout",
     "output_type": "stream",
     "text": [
      "[name: \"/cpu:0\"\n",
      "device_type: \"CPU\"\n",
      "memory_limit: 268435456\n",
      "locality {\n",
      "}\n",
      "incarnation: 8859015423138342175\n",
      ", name: \"/gpu:0\"\n",
      "device_type: \"GPU\"\n",
      "memory_limit: 357433344\n",
      "locality {\n",
      "  bus_id: 1\n",
      "}\n",
      "incarnation: 9074564281081057068\n",
      "physical_device_desc: \"device: 0, name: Tesla K80, pci bus id: 0000:00:04.0\"\n",
      "]\n"
     ]
    }
   ],
   "source": [
    "from tensorflow.python.client import device_lib\n",
    "print(device_lib.list_local_devices())"
   ]
  },
  {
   "cell_type": "markdown",
   "metadata": {},
   "source": [
    "## 数据集\n",
    "我们首先研究一下将用于训练和评估管道的数据集。机器翻译最常用的数据集来自 [WMT](http://www.statmt.org/)。但是，用该数据集训练神经网络需要很长的时间。我们将使用我们为此项目创建的数据集，其中包含很小的词汇表。使用该数据集，你将花费比较短的时间训练模型。\n",
    "### 加载数据\n",
    "数据位于 `data/small_vocab_en` 和 `data/small_vocab_fr` 中。`small_vocab_en` 文件包含英语句子，`small_vocab_fr` 文件是对应的法语翻译。请运行以下单元格，从这些文件中加载英语和法语数据。"
   ]
  },
  {
   "cell_type": "code",
   "execution_count": 4,
   "metadata": {},
   "outputs": [
    {
     "name": "stdout",
     "output_type": "stream",
     "text": [
      "Dataset Loaded\n"
     ]
    }
   ],
   "source": [
    "# Load English data\n",
    "english_sentences = helper.load_data('data/small_vocab_en')\n",
    "# Load French data\n",
    "french_sentences = helper.load_data('data/small_vocab_fr')\n",
    "\n",
    "print('Dataset Loaded')"
   ]
  },
  {
   "cell_type": "markdown",
   "metadata": {},
   "source": [
    "### 文件\n",
    "`small_vocab_en` 中的每行都包含一个英语句子，`small_vocab_fr` 中的每行是相应的翻译。请查看每个文件的前两行。"
   ]
  },
  {
   "cell_type": "code",
   "execution_count": 5,
   "metadata": {},
   "outputs": [
    {
     "name": "stdout",
     "output_type": "stream",
     "text": [
      "small_vocab_en Line 1:  new jersey is sometimes quiet during autumn , and it is snowy in april .\n",
      "small_vocab_fr Line 1:  new jersey est parfois calme pendant l' automne , et il est neigeux en avril .\n",
      "small_vocab_en Line 2:  the united states is usually chilly during july , and it is usually freezing in november .\n",
      "small_vocab_fr Line 2:  les états-unis est généralement froid en juillet , et il gèle habituellement en novembre .\n"
     ]
    }
   ],
   "source": [
    "for sample_i in range(2):\n",
    "    print('small_vocab_en Line {}:  {}'.format(sample_i + 1, english_sentences[sample_i]))\n",
    "    print('small_vocab_fr Line {}:  {}'.format(sample_i + 1, french_sentences[sample_i]))"
   ]
  },
  {
   "cell_type": "markdown",
   "metadata": {},
   "source": [
    "查看这些句子后，你会发现它们已经过预处理。标点用空格代替。所有文本都转换成小写。这样你可以节省一些时间，但是文本还需要进一步预处理。\n",
    "### 词汇表\n",
    "该问题的复杂性由词汇表的复杂性决定。更复杂的词汇表使问题更复杂。我们来看看我们将处理的数据集的复杂性。"
   ]
  },
  {
   "cell_type": "code",
   "execution_count": 6,
   "metadata": {},
   "outputs": [
    {
     "name": "stdout",
     "output_type": "stream",
     "text": [
      "1823250 English words.\n",
      "227 unique English words.\n",
      "10 Most common words in the English dataset:\n",
      "\"is\" \",\" \".\" \"in\" \"it\" \"during\" \"the\" \"but\" \"and\" \"sometimes\"\n",
      "\n",
      "1961295 French words.\n",
      "355 unique French words.\n",
      "10 Most common words in the French dataset:\n",
      "\"est\" \".\" \",\" \"en\" \"il\" \"les\" \"mais\" \"et\" \"la\" \"parfois\"\n"
     ]
    }
   ],
   "source": [
    "english_words_counter = collections.Counter([word for sentence in english_sentences for word in sentence.split()])\n",
    "french_words_counter = collections.Counter([word for sentence in french_sentences for word in sentence.split()])\n",
    "\n",
    "print('{} English words.'.format(len([word for sentence in english_sentences for word in sentence.split()])))\n",
    "print('{} unique English words.'.format(len(english_words_counter)))\n",
    "print('10 Most common words in the English dataset:')\n",
    "print('\"' + '\" \"'.join(list(zip(*english_words_counter.most_common(10)))[0]) + '\"')\n",
    "print()\n",
    "print('{} French words.'.format(len([word for sentence in french_sentences for word in sentence.split()])))\n",
    "print('{} unique French words.'.format(len(french_words_counter)))\n",
    "print('10 Most common words in the French dataset:')\n",
    "print('\"' + '\" \"'.join(list(zip(*french_words_counter.most_common(10)))[0]) + '\"')"
   ]
  },
  {
   "cell_type": "markdown",
   "metadata": {},
   "source": [
    "为了进行比较，_爱丽丝梦游仙境_包含 2,766 个唯一单词，一共有15,500 个单词。\n",
    "## 预处理\n",
    "对于此项目，你不会使用文本数据作为模型的输入，而是使用以下预处理方法将文本转换为整数序列：\n",
    "1. 将单词标记化为 ID\n",
    "2. 填充符号，使所有句子长度一样。\n",
    "\n",
    "开始预处理数据...\n",
    "### 标记化（实现）\n",
    "要使神经网络能够对文本数据进行预测，首先需要将其转换为网络能理解的数据。“dog”等文本数据是一系列 ASCII 字符编码。因为神经网络是一系列乘法和加法运算，因此输入数据必须是数字。\n",
    "\n",
    "我们可以将每个字符变成数字，或将每个单词变成数字，它们分别称为字符 ID 和单词 ID。字符 ID 用于为每个字符生成预测的字符级模型。单词级模型使用单词 ID 为每个单词生成文本预测。单词级模型一般学习效果更好，因为它们复杂性更低，因此我们将使用单词级模型。\n",
    "\n",
    "使用 Keras 的 [`Tokenizer`](https://keras.io/preprocessing/text/#tokenizer) 函数将每个句子转换成单词 ID 序列。在下面的单元格中使用此函数标记化 `english_sentences` 和 `french_sentences`。\n",
    "\n",
    "运行该单元格将对样本数据运行 `tokenize`，并显示输出以进行调试。"
   ]
  },
  {
   "cell_type": "code",
   "execution_count": 7,
   "metadata": {},
   "outputs": [
    {
     "name": "stdout",
     "output_type": "stream",
     "text": [
      "{'the': 1, 'quick': 2, 'a': 3, 'brown': 4, 'fox': 5, 'jumps': 6, 'over': 7, 'lazy': 8, 'dog': 9, 'by': 10, 'jove': 11, 'my': 12, 'study': 13, 'of': 14, 'lexicography': 15, 'won': 16, 'prize': 17, 'this': 18, 'is': 19, 'short': 20, 'sentence': 21}\n",
      "\n",
      "Sequence 1 in x\n",
      "  Input:  The quick brown fox jumps over the lazy dog .\n",
      "  Output: [1, 2, 4, 5, 6, 7, 1, 8, 9]\n",
      "Sequence 2 in x\n",
      "  Input:  By Jove , my quick study of lexicography won a prize .\n",
      "  Output: [10, 11, 12, 2, 13, 14, 15, 16, 3, 17]\n",
      "Sequence 3 in x\n",
      "  Input:  This is a short sentence .\n",
      "  Output: [18, 19, 3, 20, 21]\n"
     ]
    }
   ],
   "source": [
    "def tokenize(x):\n",
    "    \"\"\"\n",
    "    Tokenize x\n",
    "    :param x: List of sentences/strings to be tokenized\n",
    "    :return: Tuple of (tokenized x data, tokenizer used to tokenize x)\n",
    "    \"\"\"\n",
    "    \n",
    "    tokenizer = Tokenizer(num_words=None,char_level=False)\n",
    "    tokenizer.fit_on_texts(x)\n",
    "    sequences = tokenizer.texts_to_sequences(x)\n",
    "    # TODO: Implement\n",
    "    return sequences, tokenizer\n",
    "tests.test_tokenize(tokenize)\n",
    "\n",
    "# Tokenize Example output\n",
    "text_sentences = [\n",
    "    'The quick brown fox jumps over the lazy dog .',\n",
    "    'By Jove , my quick study of lexicography won a prize .',\n",
    "    'This is a short sentence .']\n",
    "text_tokenized, text_tokenizer = tokenize(text_sentences)\n",
    "print(text_tokenizer.word_index)\n",
    "print()\n",
    "for sample_i, (sent, token_sent) in enumerate(zip(text_sentences, text_tokenized)):\n",
    "    print('Sequence {} in x'.format(sample_i + 1))\n",
    "    print('  Input:  {}'.format(sent))\n",
    "    print('  Output: {}'.format(token_sent))"
   ]
  },
  {
   "cell_type": "markdown",
   "metadata": {},
   "source": [
    "### 填充（实现）\n",
    "批处理单词 ID 序列时，每个序列都必须长度一样。因为句子的长度不一，我们可以向序列末尾添加填充内容，使其长度相同。\n",
    "\n",
    "确保使用 Keras 的函数 [`pad_sequences`](https://keras.io/preprocessing/sequence/#pad_sequences) 在每个序列的**末尾**添加填充内容，使所有英语序列长度相同，所有法语序列长度也相同。"
   ]
  },
  {
   "cell_type": "code",
   "execution_count": 8,
   "metadata": {},
   "outputs": [
    {
     "name": "stdout",
     "output_type": "stream",
     "text": [
      "Sequence 1 in x\n",
      "  Input:  [1 2 4 5 6 7 1 8 9]\n",
      "  Output: [1 2 4 5 6 7 1 8 9 0]\n",
      "Sequence 2 in x\n",
      "  Input:  [10 11 12  2 13 14 15 16  3 17]\n",
      "  Output: [10 11 12  2 13 14 15 16  3 17]\n",
      "Sequence 3 in x\n",
      "  Input:  [18 19  3 20 21]\n",
      "  Output: [18 19  3 20 21  0  0  0  0  0]\n"
     ]
    }
   ],
   "source": [
    "def pad(x, length=None):\n",
    "    \"\"\"\n",
    "    Pad x\n",
    "    :param x: List of sequences.\n",
    "    :param length: Length to pad the sequence to.  If None, use length of longest sequence in x.\n",
    "    :return: Padded numpy array of sequences\n",
    "    \"\"\"\n",
    "    # TODO: Implement\n",
    "    pad = pad_sequences(x, maxlen=length, dtype='int32', padding='post', truncating='post')\n",
    "    return pad\n",
    "tests.test_pad(pad)\n",
    "\n",
    "# Pad Tokenized output\n",
    "test_pad = pad(text_tokenized)\n",
    "for sample_i, (token_sent, pad_sent) in enumerate(zip(text_tokenized, test_pad)):\n",
    "    print('Sequence {} in x'.format(sample_i + 1))\n",
    "    print('  Input:  {}'.format(np.array(token_sent)))\n",
    "    print('  Output: {}'.format(pad_sent))"
   ]
  },
  {
   "cell_type": "markdown",
   "metadata": {},
   "source": [
    "### 预处理管道\n",
    "此项目的重点是构建神经网络架构，因此我们不需要你创建预处理管道。我们已经提供了 `preprocess` 函数的实现代码。"
   ]
  },
  {
   "cell_type": "code",
   "execution_count": 9,
   "metadata": {},
   "outputs": [
    {
     "name": "stdout",
     "output_type": "stream",
     "text": [
      "Data Preprocessed\n",
      "Max English sentence length: 15\n",
      "Max French sentence length: 21\n",
      "English vocabulary size: 199\n",
      "French vocabulary size: 344\n"
     ]
    }
   ],
   "source": [
    "def preprocess(x, y):\n",
    "    \"\"\"\n",
    "    Preprocess x and y\n",
    "    :param x: Feature List of sentences\n",
    "    :param y: Label List of sentences\n",
    "    :return: Tuple of (Preprocessed x, Preprocessed y, x tokenizer, y tokenizer)\n",
    "    \"\"\"\n",
    "    preprocess_x, x_tk = tokenize(x)\n",
    "    preprocess_y, y_tk = tokenize(y)\n",
    "\n",
    "    preprocess_x = pad(preprocess_x)\n",
    "    preprocess_y = pad(preprocess_y)\n",
    "\n",
    "    # Keras's sparse_categorical_crossentropy function requires the labels to be in 3 dimensions\n",
    "    preprocess_y = preprocess_y.reshape(*preprocess_y.shape, 1)\n",
    "\n",
    "    return preprocess_x, preprocess_y, x_tk, y_tk\n",
    "\n",
    "preproc_english_sentences, preproc_french_sentences, english_tokenizer, french_tokenizer =\\\n",
    "    preprocess(english_sentences, french_sentences)\n",
    "    \n",
    "max_english_sequence_length = preproc_english_sentences.shape[1]\n",
    "max_french_sequence_length = preproc_french_sentences.shape[1]\n",
    "english_vocab_size = len(english_tokenizer.word_index)\n",
    "french_vocab_size = len(french_tokenizer.word_index)\n",
    "\n",
    "print('Data Preprocessed')\n",
    "print(\"Max English sentence length:\", max_english_sequence_length)\n",
    "print(\"Max French sentence length:\", max_french_sequence_length)\n",
    "print(\"English vocabulary size:\", english_vocab_size)\n",
    "print(\"French vocabulary size:\", french_vocab_size)"
   ]
  },
  {
   "cell_type": "markdown",
   "metadata": {},
   "source": [
    "## 模型\n",
    "在此部分，你将尝试各种神经网络架构。\n",
    "首先，你将训练四个相对简单的架构。 \n",
    "- 模型 1 是一个简单的 RNN\n",
    "- 模型 2 是一个具有嵌入的 RNN\n",
    "- 模型 3 是一个双向 RNN\n",
    "- 模型 4 是一个可选编码器-解码器 RNN\n",
    "\n",
    "尝试四个简单的架构后，你将构建一个效果比这四个模型更好的更深架构。\n",
    "### 将 ID 变回文本\n",
    "神经网络会将输入变成单词 ID，但这不是我们最终想要的格式。我们想要法语翻译。函数 `logits_to_text` 会将神经网络的 logit 与法语翻译关联起来。你将使用该函数更好地理解神经网络的输出。"
   ]
  },
  {
   "cell_type": "code",
   "execution_count": 10,
   "metadata": {},
   "outputs": [
    {
     "name": "stdout",
     "output_type": "stream",
     "text": [
      "`logits_to_text` function loaded.\n"
     ]
    }
   ],
   "source": [
    "def logits_to_text(logits, tokenizer):\n",
    "    \"\"\"\n",
    "    Turn logits from a neural network into text using the tokenizer\n",
    "    :param logits: Logits from a neural network\n",
    "    :param tokenizer: Keras Tokenizer fit on the labels\n",
    "    :return: String that represents the text of the logits\n",
    "    \"\"\"\n",
    "    index_to_words = {id: word for word, id in tokenizer.word_index.items()}\n",
    "    index_to_words[0] = '<PAD>'\n",
    "\n",
    "    return ' '.join([index_to_words[prediction] for prediction in np.argmax(logits, 1)])\n",
    "\n",
    "print('`logits_to_text` function loaded.')"
   ]
  },
  {
   "cell_type": "markdown",
   "metadata": {},
   "source": [
    "### 模型 1：RNN（实现）\n",
    "![RNN](images/rnn.png)\n",
    "基本 RNN 模型是很好的序列数据基准。在此模型中，你将构建一个将英语翻译成法语的 RNN。"
   ]
  },
  {
   "cell_type": "code",
   "execution_count": 12,
   "metadata": {},
   "outputs": [
    {
     "name": "stdout",
     "output_type": "stream",
     "text": [
      "Train on 110288 samples, validate on 27573 samples\n",
      "Epoch 1/10\n",
      "110288/110288 [==============================] - 13s 115us/step - loss: 1.9034 - acc: 0.5464 - val_loss: nan - val_acc: 0.6307\n",
      "Epoch 2/10\n",
      "110288/110288 [==============================] - 10s 91us/step - loss: 1.2680 - acc: 0.6354 - val_loss: nan - val_acc: 0.6564\n",
      "Epoch 3/10\n",
      "110288/110288 [==============================] - 10s 90us/step - loss: 1.1459 - acc: 0.6582 - val_loss: nan - val_acc: 0.6734\n",
      "Epoch 4/10\n",
      "110288/110288 [==============================] - 10s 90us/step - loss: 1.0863 - acc: 0.6674 - val_loss: nan - val_acc: 0.6854\n",
      "Epoch 5/10\n",
      "110288/110288 [==============================] - 10s 90us/step - loss: 1.0425 - acc: 0.6746 - val_loss: nan - val_acc: 0.6820\n",
      "Epoch 6/10\n",
      "110288/110288 [==============================] - 10s 90us/step - loss: 1.0145 - acc: 0.6795 - val_loss: nan - val_acc: 0.6983\n",
      "Epoch 7/10\n",
      "110288/110288 [==============================] - 10s 91us/step - loss: 0.9821 - acc: 0.6866 - val_loss: nan - val_acc: 0.7120\n",
      "Epoch 8/10\n",
      "110288/110288 [==============================] - 10s 91us/step - loss: 0.9458 - acc: 0.6952 - val_loss: nan - val_acc: 0.7160\n",
      "Epoch 9/10\n",
      "110288/110288 [==============================] - 10s 91us/step - loss: 0.8996 - acc: 0.7086 - val_loss: nan - val_acc: 0.7160\n",
      "Epoch 10/10\n",
      "110288/110288 [==============================] - 10s 90us/step - loss: 0.8804 - acc: 0.7140 - val_loss: nan - val_acc: 0.7337\n",
      "new jersey est parfois calme en mois de il et il est en en <PAD> <PAD> <PAD> <PAD> <PAD> <PAD> <PAD>\n"
     ]
    }
   ],
   "source": [
    "from keras.models import Sequential\n",
    "from keras.layers import Dropout\n",
    "\n",
    "def simple_model(input_shape, output_sequence_length, english_vocab_size, french_vocab_size):\n",
    "    \"\"\"\n",
    "    Build and train a basic RNN on x and y\n",
    "    :param input_shape: Tuple of input shape\n",
    "    :param output_sequence_length: Length of output sequence\n",
    "    :param english_vocab_size: Number of unique English words in the dataset\n",
    "    :param french_vocab_size: Number of unique French words in the dataset\n",
    "    :return: Keras model built, but not trained\n",
    "    \"\"\"\n",
    "    # TODO: Build the layers\n",
    "    learning_rate = 0.01\n",
    "    \n",
    "    model = Sequential()\n",
    "    model.add(GRU(128,input_shape=input_shape[1:],return_sequences = True))\n",
    "    model.add(TimeDistributed(Dense(512,activation='tanh')))\n",
    "    model.add(Dropout(0.5))\n",
    "    model.add(TimeDistributed(Dense(french_vocab_size,activation='softmax')))\n",
    "    \n",
    "    model.compile(loss=sparse_categorical_crossentropy,\n",
    "                  optimizer=Adam(learning_rate),\n",
    "                  metrics=['accuracy'])\n",
    "    return model\n",
    "tests.test_simple_model(simple_model)\n",
    "\n",
    "# Reshaping the input to work with a basic RNN\n",
    "tmp_x = pad(preproc_english_sentences, max_french_sequence_length)\n",
    "tmp_x = tmp_x.reshape((-1, preproc_french_sentences.shape[-2], 1))\n",
    "\n",
    "# Train the neural network\n",
    "simple_rnn_model = simple_model(\n",
    "    tmp_x.shape,\n",
    "    max_french_sequence_length,\n",
    "    english_vocab_size,\n",
    "    french_vocab_size)\n",
    "simple_rnn_model.fit(tmp_x, preproc_french_sentences, batch_size=1024, epochs=10, validation_split=0.2)\n",
    "\n",
    "# Print prediction(s)\n",
    "print(logits_to_text(simple_rnn_model.predict(tmp_x[:1])[0], french_tokenizer))"
   ]
  },
  {
   "cell_type": "markdown",
   "metadata": {},
   "source": [
    "### 模型 2：嵌入（实现）\n",
    "![RNN](images/embedding.png)\n",
    "你已经将单词变成 ID，但是单词还有更好的表示法，称为嵌入。嵌入是单词的向量表示，像素单词在 n 维空间里更接近，其中 n 表示嵌入向量的大小。\n",
    "\n",
    "在此模型中，你将使用嵌入创建一个 RNN 模型。"
   ]
  },
  {
   "cell_type": "code",
   "execution_count": 13,
   "metadata": {},
   "outputs": [
    {
     "name": "stdout",
     "output_type": "stream",
     "text": [
      "Train on 110288 samples, validate on 27573 samples\n",
      "Epoch 1/10\n",
      "110288/110288 [==============================] - 7s 65us/step - loss: 2.9975 - acc: 0.4467 - val_loss: nan - val_acc: 0.5455\n",
      "Epoch 2/10\n",
      "110288/110288 [==============================] - 7s 63us/step - loss: 1.4626 - acc: 0.6398 - val_loss: nan - val_acc: 0.7045\n",
      "Epoch 3/10\n",
      "110288/110288 [==============================] - 7s 63us/step - loss: 0.9278 - acc: 0.7436 - val_loss: nan - val_acc: 0.7703\n",
      "Epoch 4/10\n",
      "110288/110288 [==============================] - 7s 63us/step - loss: 0.7452 - acc: 0.7838 - val_loss: nan - val_acc: 0.7937\n",
      "Epoch 5/10\n",
      "110288/110288 [==============================] - 7s 63us/step - loss: 0.6661 - acc: 0.8035 - val_loss: nan - val_acc: 0.8110\n",
      "Epoch 6/10\n",
      "110288/110288 [==============================] - 7s 63us/step - loss: 0.6176 - acc: 0.8176 - val_loss: nan - val_acc: 0.8232\n",
      "Epoch 7/10\n",
      "110288/110288 [==============================] - 7s 63us/step - loss: 0.5836 - acc: 0.8262 - val_loss: nan - val_acc: 0.8291\n",
      "Epoch 8/10\n",
      "110288/110288 [==============================] - 7s 63us/step - loss: 0.5569 - acc: 0.8329 - val_loss: nan - val_acc: 0.8373\n",
      "Epoch 9/10\n",
      "110288/110288 [==============================] - 7s 63us/step - loss: 0.5339 - acc: 0.8388 - val_loss: nan - val_acc: 0.8416\n",
      "Epoch 10/10\n",
      "110288/110288 [==============================] - 7s 63us/step - loss: 0.5146 - acc: 0.8443 - val_loss: nan - val_acc: 0.8446\n",
      "new jersey est parfois calme en l'automne et il est est neigeux en avril <PAD> <PAD> <PAD> <PAD> <PAD> <PAD> <PAD>\n"
     ]
    }
   ],
   "source": [
    "from keras.layers.embeddings import Embedding\n",
    "\n",
    "def embed_model(input_shape, output_sequence_length, english_vocab_size, french_vocab_size):\n",
    "    \"\"\"\n",
    "    Build and train a RNN model using word embedding on x and y\n",
    "    :param input_shape: Tuple of input shape\n",
    "    :param output_sequence_length: Length of output sequence\n",
    "    :param english_vocab_size: Number of unique English words in the dataset\n",
    "    :param french_vocab_size: Number of unique French words in the dataset\n",
    "    :return: Keras model built, but not trained\n",
    "    \"\"\"\n",
    "    # TODO: Implement\n",
    "    learning_rate = 0.01\n",
    "    \n",
    "    inputs = Input(shape=input_shape[1:])\n",
    "    embedding_layer =Embedding(input_dim=english_vocab_size, output_dim=output_sequence_length,mask_zero=False)(inputs)\n",
    "    hidden_layer = GRU(output_sequence_length,return_sequences=True)(embedding_layer)\n",
    "    outputs=TimeDistributed(Dense(french_vocab_size,activation='softmax'))(hidden_layer)\n",
    "    \n",
    "    model=Model(inputs=inputs,outputs=outputs)\n",
    "    model.compile(loss=sparse_categorical_crossentropy,optimizer=Adam(learning_rate),metrics=['accuracy'])\n",
    "    return model\n",
    "tests.test_embed_model(embed_model)\n",
    "\n",
    "\n",
    "# TODO: Reshape the input\n",
    "tmp_x = pad(preproc_english_sentences, preproc_french_sentences.shape[1])\n",
    "tmp_x = tmp_x.reshape((-1, preproc_french_sentences.shape[-2]))\n",
    "\n",
    "# TODO: Train the neural network\n",
    "embed_rnn_model = embed_model(\n",
    "    tmp_x.shape,\n",
    "    preproc_french_sentences.shape[1],\n",
    "    english_vocab_size,\n",
    "    french_vocab_size)\n",
    "embed_rnn_model.fit(tmp_x, preproc_french_sentences, batch_size=1024, epochs=10, validation_split=0.2)\n",
    "\n",
    "# TODO: Print prediction(s)\n",
    "print(logits_to_text(embed_rnn_model.predict(tmp_x[:1])[0],french_tokenizer))\n",
    "      "
   ]
  },
  {
   "cell_type": "markdown",
   "metadata": {},
   "source": [
    "### 模型 3：双向 RNN（实现）\n",
    "![RNN](images/bidirectional.png)\n",
    "RNN 的一个局限之处是无法查看未来的输入，只能查看过去的输入。这时候双向递归神经网络就派上用场了，它们能够查看未来的数据。"
   ]
  },
  {
   "cell_type": "code",
   "execution_count": 17,
   "metadata": {},
   "outputs": [
    {
     "name": "stderr",
     "output_type": "stream",
     "text": [
      "/opt/conda/lib/python3.6/site-packages/ipykernel_launcher.py:18: UserWarning: Update your `Model` call to the Keras 2 API: `Model(outputs=Tensor(\"ti..., inputs=Tensor(\"in...)`\n"
     ]
    },
    {
     "name": "stdout",
     "output_type": "stream",
     "text": [
      "Train on 110288 samples, validate on 27573 samples\n",
      "Epoch 1/10\n",
      "110288/110288 [==============================] - 10s 91us/step - loss: 2.5487 - acc: 0.4981 - val_loss: nan - val_acc: 0.5713\n",
      "Epoch 2/10\n",
      "110288/110288 [==============================] - 9s 83us/step - loss: 1.5846 - acc: 0.5904 - val_loss: nan - val_acc: 0.6093\n",
      "Epoch 3/10\n",
      "110288/110288 [==============================] - 9s 84us/step - loss: 1.4094 - acc: 0.6255 - val_loss: nan - val_acc: 0.6379\n",
      "Epoch 4/10\n",
      "110288/110288 [==============================] - 9s 84us/step - loss: 1.3078 - acc: 0.6437 - val_loss: nan - val_acc: 0.6506\n",
      "Epoch 5/10\n",
      "110288/110288 [==============================] - 9s 84us/step - loss: 1.2482 - acc: 0.6532 - val_loss: nan - val_acc: 0.6560\n",
      "Epoch 6/10\n",
      "110288/110288 [==============================] - 9s 84us/step - loss: 1.2108 - acc: 0.6578 - val_loss: nan - val_acc: 0.6606\n",
      "Epoch 7/10\n",
      "110288/110288 [==============================] - 9s 83us/step - loss: 1.1889 - acc: 0.6608 - val_loss: nan - val_acc: 0.6609\n",
      "Epoch 8/10\n",
      "110288/110288 [==============================] - 9s 84us/step - loss: 1.1711 - acc: 0.6646 - val_loss: nan - val_acc: 0.6670\n",
      "Epoch 9/10\n",
      "110288/110288 [==============================] - 9s 84us/step - loss: 1.1522 - acc: 0.6678 - val_loss: nan - val_acc: 0.6700\n",
      "Epoch 10/10\n",
      "110288/110288 [==============================] - 9s 84us/step - loss: 1.1386 - acc: 0.6698 - val_loss: nan - val_acc: 0.6699\n",
      "new jersey est parfois calme en en et il est est en en <PAD> <PAD> <PAD> <PAD> <PAD> <PAD> <PAD> <PAD>\n"
     ]
    }
   ],
   "source": [
    "from keras.layers import Bidirectional\n",
    "def bd_model(input_shape, output_sequence_length, english_vocab_size, french_vocab_size):\n",
    "    \"\"\"\n",
    "    Build and train a bidirectional RNN model on x and y\n",
    "    :param input_shape: Tuple of input shape\n",
    "    :param output_sequence_length: Length of output sequence\n",
    "    :param english_vocab_size: Number of unique English words in the dataset\n",
    "    :param french_vocab_size: Number of unique French words in the dataset\n",
    "    :return: Keras model built, but not trained\n",
    "    \"\"\"\n",
    "    # TODO: Implement\n",
    "    learning_rate=0.01\n",
    "\n",
    "    inputs = Input(shape=input_shape[1:])\n",
    "    hidden_layer = Bidirectional(GRU(output_sequence_length,return_sequences=True))(inputs)\n",
    "    outputs = TimeDistributed(Dense(french_vocab_size,activation='softmax'))(hidden_layer)\n",
    "    \n",
    "    model = Model(input=inputs,outputs=outputs)\n",
    "    model.compile(loss=sparse_categorical_crossentropy,optimizer=Adam(learning_rate),metrics=['accuracy'])\n",
    "    \n",
    "    return model\n",
    "tests.test_bd_model(bd_model)\n",
    "\n",
    "\n",
    "# TODO: Train and Print prediction(s)\n",
    "\n",
    "# TODO: Reshape the input\n",
    "tmp_x = pad(preproc_english_sentences, preproc_french_sentences.shape[1])\n",
    "tmp_x = tmp_x.reshape((-1, preproc_french_sentences.shape[-2],1))\n",
    "\n",
    "# TODO: Train the neural network\n",
    "bd_rnn_model = bd_model(\n",
    "    tmp_x.shape,\n",
    "    preproc_french_sentences.shape[1],\n",
    "    english_vocab_size,\n",
    "    french_vocab_size)\n",
    "bd_rnn_model.fit(tmp_x, preproc_french_sentences, batch_size=1024, epochs=10, validation_split=0.2)\n",
    "\n",
    "# TODO: Print prediction(s)\n",
    "print(logits_to_text(bd_rnn_model.predict(tmp_x[:1])[0],french_tokenizer))\n",
    "      "
   ]
  },
  {
   "cell_type": "markdown",
   "metadata": {},
   "source": [
    "### 模型 4：编码器-解码器（可选）\n",
    "我们来看看编码器-解码器模型。此模型由编码器和解码器组成。编码器会创建句子的矩阵表示，解码器将此矩阵当做输入，并预测翻译作为输出。\n",
    "\n",
    "在以下单元格中创建编码器-解码器模型。"
   ]
  },
  {
   "cell_type": "code",
   "execution_count": 17,
   "metadata": {},
   "outputs": [
    {
     "name": "stdout",
     "output_type": "stream",
     "text": [
      "(137861, 15, 1)\n"
     ]
    },
    {
     "ename": "AssertionError",
     "evalue": "Wrong input shape. Found input shape (None, 15) using parameter input_shape=(137861, 15, 1)",
     "output_type": "error",
     "traceback": [
      "\u001b[0;31m---------------------------------------------------------------------------\u001b[0m",
      "\u001b[0;31mAssertionError\u001b[0m                            Traceback (most recent call last)",
      "\u001b[0;32m<ipython-input-17-f075ef3c5edc>\u001b[0m in \u001b[0;36m<module>\u001b[0;34m()\u001b[0m\n\u001b[1;32m     23\u001b[0m     \u001b[0;32mreturn\u001b[0m \u001b[0mmodel\u001b[0m\u001b[0;34m\u001b[0m\u001b[0m\n\u001b[1;32m     24\u001b[0m \u001b[0;34m\u001b[0m\u001b[0m\n\u001b[0;32m---> 25\u001b[0;31m \u001b[0mtests\u001b[0m\u001b[0;34m.\u001b[0m\u001b[0mtest_encdec_model\u001b[0m\u001b[0;34m(\u001b[0m\u001b[0mencdec_model\u001b[0m\u001b[0;34m)\u001b[0m\u001b[0;34m\u001b[0m\u001b[0m\n\u001b[0m",
      "\u001b[0;32m/home/workspace/project_tests.py\u001b[0m in \u001b[0;36mtest_encdec_model\u001b[0;34m(encdec_model)\u001b[0m\n\u001b[1;32m     81\u001b[0m \u001b[0;34m\u001b[0m\u001b[0m\n\u001b[1;32m     82\u001b[0m     \u001b[0mmodel\u001b[0m \u001b[0;34m=\u001b[0m \u001b[0mencdec_model\u001b[0m\u001b[0;34m(\u001b[0m\u001b[0minput_shape\u001b[0m\u001b[0;34m,\u001b[0m \u001b[0moutput_sequence_length\u001b[0m\u001b[0;34m,\u001b[0m \u001b[0menglish_vocab_size\u001b[0m\u001b[0;34m,\u001b[0m \u001b[0mfrench_vocab_size\u001b[0m\u001b[0;34m)\u001b[0m\u001b[0;34m\u001b[0m\u001b[0m\n\u001b[0;32m---> 83\u001b[0;31m     \u001b[0m_test_model\u001b[0m\u001b[0;34m(\u001b[0m\u001b[0mmodel\u001b[0m\u001b[0;34m,\u001b[0m \u001b[0minput_shape\u001b[0m\u001b[0;34m,\u001b[0m \u001b[0moutput_sequence_length\u001b[0m\u001b[0;34m,\u001b[0m \u001b[0mfrench_vocab_size\u001b[0m\u001b[0;34m)\u001b[0m\u001b[0;34m\u001b[0m\u001b[0m\n\u001b[0m\u001b[1;32m     84\u001b[0m \u001b[0;34m\u001b[0m\u001b[0m\n\u001b[1;32m     85\u001b[0m \u001b[0;34m\u001b[0m\u001b[0m\n",
      "\u001b[0;32m/home/workspace/project_tests.py\u001b[0m in \u001b[0;36m_test_model\u001b[0;34m(model, input_shape, output_sequence_length, french_vocab_size)\u001b[0m\n\u001b[1;32m     11\u001b[0m \u001b[0;34m\u001b[0m\u001b[0m\n\u001b[1;32m     12\u001b[0m     \u001b[0;32massert\u001b[0m \u001b[0mmodel\u001b[0m\u001b[0;34m.\u001b[0m\u001b[0minput_shape\u001b[0m \u001b[0;34m==\u001b[0m \u001b[0;34m(\u001b[0m\u001b[0;32mNone\u001b[0m\u001b[0;34m,\u001b[0m \u001b[0;34m*\u001b[0m\u001b[0minput_shape\u001b[0m\u001b[0;34m[\u001b[0m\u001b[0;36m1\u001b[0m\u001b[0;34m:\u001b[0m\u001b[0;34m]\u001b[0m\u001b[0;34m)\u001b[0m\u001b[0;34m,\u001b[0m\u001b[0;31m\\\u001b[0m\u001b[0;34m\u001b[0m\u001b[0m\n\u001b[0;32m---> 13\u001b[0;31m         \u001b[0;34m'Wrong input shape. Found input shape {} using parameter input_shape={}'\u001b[0m\u001b[0;34m.\u001b[0m\u001b[0mformat\u001b[0m\u001b[0;34m(\u001b[0m\u001b[0mmodel\u001b[0m\u001b[0;34m.\u001b[0m\u001b[0minput_shape\u001b[0m\u001b[0;34m,\u001b[0m \u001b[0minput_shape\u001b[0m\u001b[0;34m)\u001b[0m\u001b[0;34m\u001b[0m\u001b[0m\n\u001b[0m\u001b[1;32m     14\u001b[0m \u001b[0;34m\u001b[0m\u001b[0m\n\u001b[1;32m     15\u001b[0m     \u001b[0;32massert\u001b[0m \u001b[0mmodel\u001b[0m\u001b[0;34m.\u001b[0m\u001b[0moutput_shape\u001b[0m \u001b[0;34m==\u001b[0m \u001b[0;34m(\u001b[0m\u001b[0;32mNone\u001b[0m\u001b[0;34m,\u001b[0m \u001b[0moutput_sequence_length\u001b[0m\u001b[0;34m,\u001b[0m \u001b[0mfrench_vocab_size\u001b[0m\u001b[0;34m)\u001b[0m\u001b[0;34m,\u001b[0m\u001b[0;31m\\\u001b[0m\u001b[0;34m\u001b[0m\u001b[0m\n",
      "\u001b[0;31mAssertionError\u001b[0m: Wrong input shape. Found input shape (None, 15) using parameter input_shape=(137861, 15, 1)"
     ]
    }
   ],
   "source": [
    "# reference link:https://machinelearningmastery.com/develop-neural-machine-translation-system-keras/\n",
    "from keras.models import Sequential\n",
    "def encdec_model(input_shape, output_sequence_length, english_vocab_size, french_vocab_size):\n",
    "    \"\"\"\n",
    "    Build and train an encoder-decoder model on x and y\n",
    "    :param input_shape: Tuple of input shape\n",
    "    :param output_sequence_length: Length of output sequence\n",
    "    :param english_vocab_size: Number of unique English words in the dataset\n",
    "    :param french_vocab_size: Number of unique French words in the dataset\n",
    "    :return: Keras model built, but not trained\n",
    "    \"\"\"\n",
    "    # OPTIONAL: Implement\n",
    "    # Define an input sequence and process it.\n",
    "    print(input_shape)\n",
    "    learning_rate = 1e-3\n",
    "    model = Sequential()\n",
    "    model.add(Embedding(english_vocab_size, 32, input_length=input_shape[1], mask_zero=True))\n",
    "    model.add(GRU(64))\n",
    "    model.add(RepeatVector(output_sequence_length))\n",
    "    model.add(GRU(64, return_sequences=True))\n",
    "    model.add(TimeDistributed(Dense(french_vocab_size, activation='softmax')))\n",
    "    model.compile(optimizer=Adam(learning_rate), loss='sparse_categorical_crossentropy', metrics=['accuracy'])\n",
    "    return model\n",
    "\n",
    "tests.test_encdec_model(encdec_model)"
   ]
  },
  {
   "cell_type": "code",
   "execution_count": 18,
   "metadata": {},
   "outputs": [
    {
     "name": "stdout",
     "output_type": "stream",
     "text": [
      "_________________________________________________________________\n",
      "Layer (type)                 Output Shape              Param #   \n",
      "=================================================================\n",
      "input_11 (InputLayer)        (None, 21, 1)             0         \n",
      "_________________________________________________________________\n",
      "gru_14 (GRU)                 (None, 21)                1449      \n",
      "_________________________________________________________________\n",
      "dense_16 (Dense)             (None, 128)               2816      \n",
      "_________________________________________________________________\n",
      "repeat_vector_2 (RepeatVecto (None, 21, 128)           0         \n",
      "_________________________________________________________________\n",
      "gru_15 (GRU)                 (None, 21, 128)           98688     \n",
      "_________________________________________________________________\n",
      "time_distributed_14 (TimeDis (None, 21, 345)           44505     \n",
      "=================================================================\n",
      "Total params: 147,458\n",
      "Trainable params: 147,458\n",
      "Non-trainable params: 0\n",
      "_________________________________________________________________\n",
      "Train on 110288 samples, validate on 27573 samples\n",
      "Epoch 1/10\n",
      "110288/110288 [==============================] - 13s 115us/step - loss: 2.7128 - acc: 0.4585 - val_loss: 2.1275 - val_acc: 0.5146\n",
      "Epoch 2/10\n",
      "110288/110288 [==============================] - 12s 105us/step - loss: 1.9409 - acc: 0.5335 - val_loss: 2.0050 - val_acc: 0.5327\n",
      "Epoch 3/10\n",
      "110288/110288 [==============================] - 12s 105us/step - loss: 1.7625 - acc: 0.5569 - val_loss: 1.7363 - val_acc: 0.5646\n",
      "Epoch 4/10\n",
      "110288/110288 [==============================] - 12s 106us/step - loss: 1.6213 - acc: 0.5743 - val_loss: 1.5517 - val_acc: 0.5793\n",
      "Epoch 5/10\n",
      "110288/110288 [==============================] - 12s 106us/step - loss: 1.4599 - acc: 0.5988 - val_loss: 1.3767 - val_acc: 0.6177\n",
      "Epoch 6/10\n",
      "110288/110288 [==============================] - 12s 106us/step - loss: 1.3720 - acc: 0.6170 - val_loss: 1.3101 - val_acc: 0.6306\n",
      "Epoch 7/10\n",
      "110288/110288 [==============================] - 12s 105us/step - loss: 1.3422 - acc: 0.6232 - val_loss: 1.2826 - val_acc: 0.6358\n",
      "Epoch 8/10\n",
      "110288/110288 [==============================] - 12s 105us/step - loss: 1.2806 - acc: 0.6344 - val_loss: 1.2673 - val_acc: 0.6378\n",
      "Epoch 9/10\n",
      "110288/110288 [==============================] - 12s 105us/step - loss: 1.3603 - acc: 0.6202 - val_loss: 1.3143 - val_acc: 0.6276\n",
      "Epoch 10/10\n",
      "110288/110288 [==============================] - 12s 105us/step - loss: 1.2750 - acc: 0.6331 - val_loss: 1.2562 - val_acc: 0.6365\n",
      "new jersey est jamais froid en mois et il est est en en <PAD> <PAD> <PAD> <PAD> <PAD> <PAD> <PAD> <PAD>\n"
     ]
    }
   ],
   "source": [
    "def encdec_model(input_shape, output_sequence_length, english_vocab_size, french_vocab_size):\n",
    "    \"\"\"\n",
    "    Build and train an encoder-decoder model on x and y\n",
    "    :param input_shape: Tuple of input shape\n",
    "    :param output_sequence_length: Length of output sequence\n",
    "    :param english_vocab_size: Number of unique English words in the dataset\n",
    "    :param french_vocab_size: Number of unique French words in the dataset\n",
    "    :return: Keras model built, but not trained\n",
    "    \"\"\"\n",
    "    # OPTIONAL: Implement\n",
    "    learning_rate = 0.01\n",
    "    latent_dim = 128\n",
    "    \n",
    "    #Config Encoder\n",
    "    encoder_inputs = Input(shape=input_shape[1:])\n",
    "    encoder_gru = GRU(output_sequence_length)(encoder_inputs)\n",
    "    encoder_outputs = Dense(latent_dim, activation='relu')(encoder_gru)\n",
    "    \n",
    "    #COnfig Decoder\n",
    "    decoder_inputs = RepeatVector(output_sequence_length)(encoder_outputs)\n",
    "    decoder_gru = GRU(latent_dim, return_sequences=True)(decoder_inputs)\n",
    "    output_layer = TimeDistributed(Dense(french_vocab_size, activation='softmax'))\n",
    "    outputs = output_layer(decoder_gru)\n",
    "\n",
    "    #Create Model from parameters defined above\n",
    "    model = Model(inputs=encoder_inputs, outputs=outputs)\n",
    "    model.compile(loss=sparse_categorical_crossentropy,\n",
    "                  optimizer=Adam(learning_rate),\n",
    "                  metrics=['accuracy'])\n",
    "    return model\n",
    "tests.test_encdec_model(encdec_model)\n",
    "\n",
    "\n",
    "# OPTIONAL: Train and Print prediction(s\n",
    "\n",
    "# TODO: Reshape the input\n",
    "tmp_x = pad(preproc_english_sentences, preproc_french_sentences.shape[1])\n",
    "tmp_x = tmp_x.reshape((-1, preproc_french_sentences.shape[-2], 1))\n",
    "\n",
    "# Train the neural network\n",
    "encdec_rnn_model = encdec_model(\n",
    "    tmp_x.shape,\n",
    "    preproc_french_sentences.shape[1],\n",
    "    len(english_tokenizer.word_index) + 1,\n",
    "    len(french_tokenizer.word_index) + 1)\n",
    "encdec_rnn_model.summary()\n",
    "encdec_rnn_model.fit(tmp_x, preproc_french_sentences, batch_size=1024, epochs=10, validation_split=0.2)\n",
    "\n",
    "# Print prediction(s)\n",
    "print(logits_to_text(encdec_rnn_model.predict(tmp_x[:1])[0], french_tokenizer))\n",
    "\n",
    "### 模型 5：自定义（实现）\n",
    "请使用从之前的模型中学到的所有知识创建一个包含嵌入和双向 RNN 的模型。"
   ]
  },
  {
   "cell_type": "code",
   "execution_count": 24,
   "metadata": {},
   "outputs": [
    {
     "name": "stdout",
     "output_type": "stream",
     "text": [
      "Final Model Loaded\n",
      "Train on 110288 samples, validate on 27573 samples\n",
      "Epoch 1/10\n",
      "110288/110288 [==============================] - 24s 214us/step - loss: 2.1623 - acc: 0.5137 - val_loss: nan - val_acc: 0.6271\n",
      "Epoch 2/10\n",
      "110288/110288 [==============================] - 22s 195us/step - loss: 1.1826 - acc: 0.6742 - val_loss: nan - val_acc: 0.7178\n",
      "Epoch 3/10\n",
      "110288/110288 [==============================] - 21s 195us/step - loss: 0.9203 - acc: 0.7309 - val_loss: nan - val_acc: 0.7569\n",
      "Epoch 4/10\n",
      "110288/110288 [==============================] - 22s 195us/step - loss: 0.7240 - acc: 0.7760 - val_loss: nan - val_acc: 0.7947\n",
      "Epoch 5/10\n",
      "110288/110288 [==============================] - 22s 195us/step - loss: 0.5871 - acc: 0.8150 - val_loss: nan - val_acc: 0.8271\n",
      "Epoch 6/10\n",
      "110288/110288 [==============================] - 22s 196us/step - loss: 0.4926 - acc: 0.8437 - val_loss: nan - val_acc: 0.8590\n",
      "Epoch 7/10\n",
      "110288/110288 [==============================] - 21s 195us/step - loss: 0.3882 - acc: 0.8768 - val_loss: nan - val_acc: 0.8816\n",
      "Epoch 8/10\n",
      "110288/110288 [==============================] - 22s 195us/step - loss: 0.3188 - acc: 0.8996 - val_loss: nan - val_acc: 0.9094\n",
      "Epoch 9/10\n",
      "110288/110288 [==============================] - 22s 195us/step - loss: 0.2637 - acc: 0.9180 - val_loss: nan - val_acc: 0.9034\n",
      "Epoch 10/10\n",
      "110288/110288 [==============================] - 21s 195us/step - loss: 0.2439 - acc: 0.9228 - val_loss: nan - val_acc: 0.9317\n",
      "new jersey est parfois calme en cours de il automne agréable en avril <PAD> <PAD> avril <PAD> <PAD> <PAD> <PAD> <PAD>\n"
     ]
    }
   ],
   "source": [
    "def model_final(input_shape, output_sequence_length, english_vocab_size, french_vocab_size):\n",
    "    \"\"\"\n",
    "    Build and train a model that incorporates embedding, encoder-decoder, and bidirectional RNN on x and y\n",
    "    :param input_shape: Tuple of input shape\n",
    "    :param output_sequence_length: Length of output sequence\n",
    "    :param english_vocab_size: Number of unique English words in the dataset\n",
    "    :param french_vocab_size: Number of unique French words in the dataset\n",
    "    :return: Keras model built, but not trained\n",
    "    \"\"\"\n",
    "    # TODO: Implement\n",
    "    \n",
    "    learning_rate = 0.01\n",
    "    \n",
    "    \n",
    "    inputs = Input(shape=input_shape[1:])\n",
    "    embedding_layer = Embedding(input_dim=english_vocab_size,\n",
    "                                output_dim=output_sequence_length,\n",
    "                                mask_zero=False)(inputs)\n",
    "    bd_layer = Bidirectional(GRU(output_sequence_length))(embedding_layer)\n",
    "    encoding_layer = Dense(128, activation='relu')(bd_layer)\n",
    "    decoding_layer = RepeatVector(output_sequence_length)(encoding_layer)\n",
    "    output_layer = Bidirectional(GRU(128, return_sequences=True))(decoding_layer)\n",
    "    outputs = TimeDistributed(Dense(french_vocab_size, activation='softmax'))(output_layer)\n",
    "    \n",
    "    model = Model(inputs=inputs, outputs=outputs)\n",
    "    model.compile(loss=sparse_categorical_crossentropy,\n",
    "                  optimizer=Adam(learning_rate),\n",
    "                  metrics=['accuracy'])\n",
    "    \n",
    "    return model\n",
    "tests.test_model_final(model_final)\n",
    "\n",
    "\n",
    "print('Final Model Loaded')\n",
    "# TODO: Train the final model\n",
    "\n",
    "# TODO: Reshape the input\n",
    "tmp_x = pad(preproc_english_sentences, preproc_french_sentences.shape[1])\n",
    "tmp_x = tmp_x.reshape((-1, preproc_french_sentences.shape[-2]))\n",
    "\n",
    "# TODO: Train the neural network\n",
    "final_rnn_model = model_final(\n",
    "    tmp_x.shape,\n",
    "    preproc_french_sentences.shape[1],\n",
    "    english_vocab_size,\n",
    "    french_vocab_size)\n",
    "final_rnn_model.fit(tmp_x, preproc_french_sentences, batch_size=1024, epochs=10, validation_split=0.2)\n",
    "\n",
    "# TODO: Print prediction(s)\n",
    "print(logits_to_text(final_rnn_model.predict(tmp_x[:1])[0],french_tokenizer))\n",
    "      "
   ]
  },
  {
   "cell_type": "markdown",
   "metadata": {},
   "source": [
    "## 预测（实现）"
   ]
  },
  {
   "cell_type": "code",
   "execution_count": 25,
   "metadata": {},
   "outputs": [
    {
     "name": "stdout",
     "output_type": "stream",
     "text": [
      "_________________________________________________________________\n",
      "Layer (type)                 Output Shape              Param #   \n",
      "=================================================================\n",
      "input_20 (InputLayer)        (None, 15)                0         \n",
      "_________________________________________________________________\n",
      "embedding_11 (Embedding)     (None, 15, 21)            4200      \n",
      "_________________________________________________________________\n",
      "bidirectional_19 (Bidirectio (None, 42)                5418      \n",
      "_________________________________________________________________\n",
      "dense_27 (Dense)             (None, 128)               5504      \n",
      "_________________________________________________________________\n",
      "repeat_vector_6 (RepeatVecto (None, 21, 128)           0         \n",
      "_________________________________________________________________\n",
      "bidirectional_20 (Bidirectio (None, 21, 256)           197376    \n",
      "_________________________________________________________________\n",
      "time_distributed_21 (TimeDis (None, 21, 345)           88665     \n",
      "=================================================================\n",
      "Total params: 301,163\n",
      "Trainable params: 301,163\n",
      "Non-trainable params: 0\n",
      "_________________________________________________________________\n",
      "Train on 110288 samples, validate on 27573 samples\n",
      "Epoch 1/10\n",
      "110288/110288 [==============================] - 21s 195us/step - loss: 2.2053 - acc: 0.5046 - val_loss: 1.4401 - val_acc: 0.6103\n",
      "Epoch 2/10\n",
      "110288/110288 [==============================] - 20s 177us/step - loss: 1.2125 - acc: 0.6625 - val_loss: 0.9891 - val_acc: 0.7115\n",
      "Epoch 3/10\n",
      "110288/110288 [==============================] - 20s 178us/step - loss: 0.8612 - acc: 0.7402 - val_loss: 0.7601 - val_acc: 0.7634\n",
      "Epoch 4/10\n",
      "110288/110288 [==============================] - 20s 177us/step - loss: 0.6896 - acc: 0.7835 - val_loss: 0.6126 - val_acc: 0.8062\n",
      "Epoch 5/10\n",
      "110288/110288 [==============================] - 20s 178us/step - loss: 0.5594 - acc: 0.8223 - val_loss: 0.5195 - val_acc: 0.8372\n",
      "Epoch 6/10\n",
      "110288/110288 [==============================] - 20s 177us/step - loss: 0.4497 - acc: 0.8597 - val_loss: 0.3935 - val_acc: 0.8790\n",
      "Epoch 7/10\n",
      "110288/110288 [==============================] - 20s 177us/step - loss: 0.3659 - acc: 0.8861 - val_loss: 0.3264 - val_acc: 0.8999\n",
      "Epoch 8/10\n",
      "110288/110288 [==============================] - 20s 177us/step - loss: 0.3095 - acc: 0.9036 - val_loss: 0.2624 - val_acc: 0.9210\n",
      "Epoch 9/10\n",
      "110288/110288 [==============================] - 20s 177us/step - loss: 0.2459 - acc: 0.9254 - val_loss: 0.2244 - val_acc: 0.9333\n",
      "Epoch 10/10\n",
      "110288/110288 [==============================] - 20s 177us/step - loss: 0.2117 - acc: 0.9359 - val_loss: 0.2114 - val_acc: 0.9363\n",
      "Sample 1:\n",
      "il a vu un vieux camion jaune <PAD> <PAD> <PAD> <PAD> <PAD> <PAD> <PAD> <PAD> <PAD> <PAD> <PAD> <PAD> <PAD> <PAD>\n",
      "Il a vu un vieux camion jaune\n",
      "Sample 2:\n",
      "new jersey est parfois calme au l' et il est et en est neigeux en <PAD> <PAD> <PAD> <PAD> <PAD> <PAD>\n",
      "new jersey est parfois calme pendant l' automne et il est neigeux en avril <PAD> <PAD> <PAD> <PAD> <PAD> <PAD> <PAD>\n"
     ]
    }
   ],
   "source": [
    "def final_predictions(x, y, x_tk, y_tk):\n",
    "    \"\"\"\n",
    "    Gets predictions using the final model\n",
    "    :param x: Preprocessed English data\n",
    "    :param y: Preprocessed French data\n",
    "    :param x_tk: English tokenizer\n",
    "    :param y_tk: French tokenizer\n",
    "    \"\"\"\n",
    "    # TODO: Train neural network using model_final\n",
    "    \n",
    "    model = model_final(x.shape,\n",
    "                        y.shape[1],\n",
    "                       len(x_tk.word_index) + 1,\n",
    "                       len(y_tk.word_index) + 1)\n",
    "    model.summary()\n",
    "    model.fit(x, y, batch_size=1024, epochs=10, validation_split=0.2)\n",
    "\n",
    "    \n",
    "    ## DON'T EDIT ANYTHING BELOW THIS LINE\n",
    "    y_id_to_word = {value: key for key, value in y_tk.word_index.items()}\n",
    "    y_id_to_word[0] = '<PAD>'\n",
    "\n",
    "    sentence = 'he saw a old yellow truck'\n",
    "    sentence = [x_tk.word_index[word] for word in sentence.split()]\n",
    "    sentence = pad_sequences([sentence], maxlen=x.shape[-1], padding='post')\n",
    "    sentences = np.array([sentence[0], x[0]])\n",
    "    predictions = model.predict(sentences, len(sentences))\n",
    "\n",
    "    print('Sample 1:')\n",
    "    print(' '.join([y_id_to_word[np.argmax(x)] for x in predictions[0]]))\n",
    "    print('Il a vu un vieux camion jaune')\n",
    "    print('Sample 2:')\n",
    "    print(' '.join([y_id_to_word[np.argmax(x)] for x in predictions[1]]))\n",
    "    print(' '.join([y_id_to_word[np.max(x)] for x in y[0]]))\n",
    "\n",
    "\n",
    "final_predictions(preproc_english_sentences, preproc_french_sentences, english_tokenizer, french_tokenizer)"
   ]
  },
  {
   "cell_type": "markdown",
   "metadata": {},
   "source": [
    "## 提交\n",
    "准备好提交后，请完成以下步骤：\n",
    "1. 阅读[审阅标准](https://review.udacity.com/#!/rubrics/1004/view)，确保提交内容满足所有要求，以便通过审阅\n",
    "2. 生成此 notebook 的 HTML 版本\n",
    "\n",
    "  - 运行下个单元格，以便尝试自动生成（这是在 Workspace 中的推荐方法）\n",
    "  - 依次转到**文件 -> 下载为 -> HTML (.html)**\n",
    "  - 从 shell 终端中使用 `nbconvert` 手动生成副本"
   ]
  },
  {
   "cell_type": "markdown",
   "metadata": {},
   "source": [
    "$ pip install nbconvert\n",
    "$ python -m nbconvert machine_translation.ipynb"
   ]
  },
  {
   "cell_type": "markdown",
   "metadata": {},
   "source": [
    "3. 提交项目\n",
    "\n",
    "  - 如果是在 Workspace 中，直接点击“提交项目”按钮（位于右下角）\n",
    "  \n",
    "  - 否则，压缩以下文件并提交\n",
    "  - `helper.py`\n",
    "  - `machine_translation.ipynb`\n",
    "  - `machine_translation.html`\n",
    "    - 可以通过依次转到**文件 -> 下载为 -> HTML (.html)** 导出 notebook。\n",
    "\n",
    "### 生成 html\n",
    "\n",
    "**在运行下个单元格前先保存 notebook，以导出 HTML。** 然后提交项目。"
   ]
  },
  {
   "cell_type": "code",
   "execution_count": 27,
   "metadata": {},
   "outputs": [
    {
     "data": {
      "text/plain": [
       "['[NbConvertApp] Converting notebook machine_translation.ipynb to html',\n",
       " '[NbConvertApp] Writing 331281 bytes to machine_translation.html',\n",
       " '[NbConvertApp] Converting notebook machine_translation-zh.ipynb to html',\n",
       " '[NbConvertApp] Writing 373884 bytes to machine_translation-zh.html']"
      ]
     },
     "execution_count": 27,
     "metadata": {},
     "output_type": "execute_result"
    }
   ],
   "source": [
    "# Save before you run this cell!\n",
    "!!jupyter nbconvert *.ipynb"
   ]
  },
  {
   "cell_type": "code",
   "execution_count": 28,
   "metadata": {},
   "outputs": [
    {
     "data": {
      "text/plain": [
       "['[NbConvertApp] Converting notebook machine_translation.ipynb to html',\n",
       " '[NbConvertApp] Writing 305996 bytes to machine_translation.html']"
      ]
     },
     "execution_count": 28,
     "metadata": {},
     "output_type": "execute_result"
    }
   ],
   "source": [
    "['[NbConvertApp] Converting notebook machine_translation.ipynb to html',\n",
    " '[NbConvertApp] Writing 305996 bytes to machine_translation.html']\n",
    "\n"
   ]
  },
  {
   "cell_type": "markdown",
   "metadata": {},
   "source": [
    "## 可选增强方式\n",
    "\n",
    "此项目侧重于学习各种机器翻译网络架构，但是没有根据最佳做法（将数据拆分为测试集和训练集）评估模型，因此模型的准确率夸大了。请使用 [`sklearn.model_selection.train_test_split()`](http://scikit-learn.org/stable/modules/generated/sklearn.model_selection.train_test_split.html) 函数创建单独的训练集和测试集，然后仅使用训练集重新训练每个模型，并使用预留的测试集评估预测准确率。“最佳”模型变了吗？"
   ]
  }
 ],
 "metadata": {
  "kernelspec": {
   "display_name": "Python 3",
   "language": "python",
   "name": "python3"
  },
  "language_info": {
   "codemirror_mode": {
    "name": "ipython",
    "version": 3
   },
   "file_extension": ".py",
   "mimetype": "text/x-python",
   "name": "python",
   "nbconvert_exporter": "python",
   "pygments_lexer": "ipython3",
   "version": "3.6.3"
  }
 },
 "nbformat": 4,
 "nbformat_minor": 2
}
